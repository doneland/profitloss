{
 "cells": [
  {
   "cell_type": "code",
   "execution_count": null,
   "metadata": {
    "collapsed": true
   },
   "outputs": [],
   "source": [
    "prices = [10, 11, 12, 13, 14, 15, 16, 17, 18, 16, 15, 14, 17, 19] \n",
    "for p in prices:\n",
    "    s = Strategy(startamt=100000, sl=0.01, tpmulti=2)\n",
    "    s.add_price(p)\n",
    "    \n",
    "# Statistics about actions have been done.\n",
    "# - Number of transactions\n",
    "# - Profitable trades\n",
    "# - Negative trades\n",
    "# - Highest value of amount during strategy testing\n",
    "# - Lowest value of amount during strategy testing \n",
    "# - Max in row positive trades\n",
    "# - Max in row negative trades \n",
    "s.stats"
   ]
  }
 ],
 "metadata": {
  "kernelspec": {
   "display_name": "Python 3",
   "language": "python",
   "name": "python3"
  },
  "language_info": {
   "codemirror_mode": {
    "name": "ipython",
    "version": 3
   },
   "file_extension": ".py",
   "mimetype": "text/x-python",
   "name": "python",
   "nbconvert_exporter": "python",
   "pygments_lexer": "ipython3",
   "version": "3.5.2"
  }
 },
 "nbformat": 4,
 "nbformat_minor": 1
}
